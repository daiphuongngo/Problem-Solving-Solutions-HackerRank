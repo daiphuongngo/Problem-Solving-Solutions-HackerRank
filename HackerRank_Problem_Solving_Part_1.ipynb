{
  "nbformat": 4,
  "nbformat_minor": 0,
  "metadata": {
    "colab": {
      "name": "HackerRank - Problem Solving - Part 1.ipynb",
      "provenance": [],
      "collapsed_sections": []
    },
    "kernelspec": {
      "name": "python3",
      "display_name": "Python 3"
    }
  },
  "cells": [
    {
      "cell_type": "markdown",
      "metadata": {
        "id": "5N_rMRsla92t"
      },
      "source": [
        "1/ Solve Me First"
      ]
    },
    {
      "cell_type": "code",
      "metadata": {
        "id": "sE8rdko9a-Cd",
        "outputId": "a75ea326-3abb-425e-a2a8-27e893d5ace2",
        "colab": {
          "base_uri": "https://localhost:8080/",
          "height": 67
        }
      },
      "source": [
        "def solveMeFirst(a,b):\n",
        "\treturn a+b\n",
        "num1 = int(input())\n",
        "num2 = int(input())\n",
        "res = solveMeFirst(num1,num2)\n",
        "print(res)"
      ],
      "execution_count": null,
      "outputs": [
        {
          "output_type": "stream",
          "text": [
            "2\n",
            "3\n",
            "5\n"
          ],
          "name": "stdout"
        }
      ]
    },
    {
      "cell_type": "markdown",
      "metadata": {
        "id": "gDh0W_kDbQi9"
      },
      "source": [
        "2/ Simple Array Sum"
      ]
    },
    {
      "cell_type": "code",
      "metadata": {
        "id": "adUalELFb1V8",
        "outputId": "2d51d473-66d6-4050-97d7-9789f3f302ad",
        "colab": {
          "base_uri": "https://localhost:8080/",
          "height": 67
        }
      },
      "source": [
        "def simpleArraySum():\n",
        "    ar_count = int(input())\n",
        "    ar = list(map(int, input().rstrip().split()))\n",
        "    result = sum(ar) \n",
        "    return result\n",
        "simpleArraySum()\n",
        "# if __name__ == '__main__':\n",
        "#     fptr = open(os.environ['OUTPUT_PATH'], 'w')\n",
        "#     ar_count = int(input())\n",
        "\n",
        "\n",
        "#     ar = list(map(int, input().rstrip().split()))\n",
        "#     result = simpleArraySum(ar)\n",
        "#     fptr.write(str(result) + '\\n')\n",
        "#     fptr.close()"
      ],
      "execution_count": null,
      "outputs": [
        {
          "output_type": "stream",
          "text": [
            "6\n",
            "1 2 3 4 10 11\n"
          ],
          "name": "stdout"
        },
        {
          "output_type": "execute_result",
          "data": {
            "text/plain": [
              "31"
            ]
          },
          "metadata": {
            "tags": []
          },
          "execution_count": 2
        }
      ]
    },
    {
      "cell_type": "markdown",
      "metadata": {
        "id": "srRFAhsfdAPv"
      },
      "source": [
        "3/ Compare the Triplets"
      ]
    },
    {
      "cell_type": "code",
      "metadata": {
        "id": "7LEkkkAQd2aQ",
        "outputId": "575f6e88-4888-4005-ebcb-f76d19457bd4",
        "colab": {
          "base_uri": "https://localhost:8080/",
          "height": 67
        }
      },
      "source": [
        "def compareTriplets():\n",
        "    a = list(map(int, input().rstrip().split()))\n",
        "    b = list(map(int, input().rstrip().split()))\n",
        "    Alice, Bob = 0, 0 \n",
        "    for i in range(len(a)):\n",
        "        if a[i] > b[i]:\n",
        "            Alice += 1\n",
        "        elif a[i] == b[i]:\n",
        "            continue  \n",
        "        else:\n",
        "            Bob += 1\n",
        "    return Alice, Bob\n",
        "compareTriplets()\n",
        "#print((' '.join(map(int, result))))"
      ],
      "execution_count": null,
      "outputs": [
        {
          "output_type": "stream",
          "text": [
            "5 6 7\n",
            "3 6 10\n"
          ],
          "name": "stdout"
        },
        {
          "output_type": "execute_result",
          "data": {
            "text/plain": [
              "(1, 1)"
            ]
          },
          "metadata": {
            "tags": []
          },
          "execution_count": 8
        }
      ]
    },
    {
      "cell_type": "markdown",
      "metadata": {
        "id": "WfsPm5xBd1bh"
      },
      "source": [
        "4/ A Very Big Sum"
      ]
    },
    {
      "cell_type": "code",
      "metadata": {
        "id": "gwWPvQUhg4dg",
        "outputId": "504844aa-8236-4383-9391-bcc4f208eefc",
        "colab": {
          "base_uri": "https://localhost:8080/",
          "height": 67
        }
      },
      "source": [
        "def aVeryBigSum():\n",
        "    ar_count = int(input())\n",
        "    ar = list(map(int, input().rstrip().split()))\n",
        "    result = sum(ar) \n",
        "    return result\n",
        "aVeryBigSum()"
      ],
      "execution_count": null,
      "outputs": [
        {
          "output_type": "stream",
          "text": [
            "5\n",
            "1000000001 1000000002 1000000003 1000000004 1000000005\n"
          ],
          "name": "stdout"
        },
        {
          "output_type": "execute_result",
          "data": {
            "text/plain": [
              "5000000015"
            ]
          },
          "metadata": {
            "tags": []
          },
          "execution_count": 9
        }
      ]
    },
    {
      "cell_type": "markdown",
      "metadata": {
        "id": "61_xoE7JiN3K"
      },
      "source": [
        "5/ Diagonal Difference\n",
        "\n",
        "Link: https://codereview.stackexchange.com/questions/200437/sum-of-diagonal-elements-in-a-matrix"
      ]
    },
    {
      "cell_type": "code",
      "metadata": {
        "id": "HdhYRHd7hAcN",
        "outputId": "3d3d18a8-1559-4d47-c1fa-bd357202cfc0",
        "colab": {
          "base_uri": "https://localhost:8080/",
          "height": 101
        }
      },
      "source": [
        "def diagonalDifference():\n",
        "    n = int(input().strip())\n",
        "    arr = [] #\n",
        "    for i in range(n): #\n",
        "        arr.append(list(map(int, input().rstrip().split()))) #\n",
        "    size = len(arr[0]) # !!!\n",
        "    # Just initializing the sum and adding to it\n",
        "    # reduces the space complexity from O(n) to O(1)\n",
        "    first_diag, second_diag = 0, 0\n",
        "    for i in range(size):\n",
        "        # First, we sum over the main diagonal\n",
        "        # from [0, 0] to [size, size]\n",
        "        first_diag += arr[i][i]\n",
        "\n",
        "        # Second, we sum over the other diagonal,\n",
        "        # going from [0, size] to [size, 0]\n",
        "        second_diag += matrix[i][size-i-1]\n",
        "    return abs(first_diag - second_diag)\n",
        "diagonalDifference()    "
      ],
      "execution_count": null,
      "outputs": [
        {
          "output_type": "stream",
          "text": [
            "3\n",
            "11 2 4\n",
            "4 5 6\n",
            "10 8 -12\n"
          ],
          "name": "stdout"
        },
        {
          "output_type": "execute_result",
          "data": {
            "text/plain": [
              "15"
            ]
          },
          "metadata": {
            "tags": []
          },
          "execution_count": 17
        }
      ]
    },
    {
      "cell_type": "markdown",
      "metadata": {
        "id": "2BtpTQUYmjMp"
      },
      "source": [
        "6/ Plus Minus"
      ]
    },
    {
      "cell_type": "code",
      "metadata": {
        "id": "z7PEmTmbkDMW",
        "outputId": "043e7b48-869c-4faf-8d1d-ee71f6e08425",
        "colab": {
          "base_uri": "https://localhost:8080/",
          "height": 101
        }
      },
      "source": [
        "# Method 1:\n",
        "def plusMinus():\n",
        "    n = int(input())\n",
        "    arr = list(map(int, input().rstrip().split()))\n",
        "    positive = []\n",
        "    negative = []\n",
        "    zeros = []\n",
        "    for number in arr:\n",
        "        if number > 0:\n",
        "            positive.append(number)\n",
        "        elif number < 0:\n",
        "            negative.append(number)\n",
        "        else:\n",
        "            zeros.append(number)\n",
        "    positive_fraction = \"%.6f\" % (len(positive)/len(arr))\n",
        "    negative_fraction = \"%.6f\" % (len(negative)/len(arr))\n",
        "    zeros_fraction = \"%.6f\" % (len(zeros)/len(arr))\n",
        "    print(positive_fraction + '\\n' + negative_fraction + '\\n' + zeros_fraction)\n",
        "plusMinus()"
      ],
      "execution_count": null,
      "outputs": [
        {
          "output_type": "stream",
          "text": [
            "6\n",
            "-4 3 -9 0 4 1\n",
            "0.500000\n",
            "0.333333\n",
            "0.166667\n"
          ],
          "name": "stdout"
        }
      ]
    },
    {
      "cell_type": "code",
      "metadata": {
        "id": "8bN0XeRxq8HY",
        "outputId": "4ce281b1-3f31-4d2b-864f-cbfbca6b4781",
        "colab": {
          "base_uri": "https://localhost:8080/",
          "height": 101
        }
      },
      "source": [
        "# Method 2:\n",
        "def plusMinus():\n",
        "    n = int(input())\n",
        "    arr = list(map(int, input().rstrip().split()))\n",
        "    positive = []\n",
        "    negative = []\n",
        "    zeros = []\n",
        "    for number in arr:\n",
        "        if number > 0:\n",
        "            positive.append(number)\n",
        "        elif number < 0:\n",
        "            negative.append(number)\n",
        "        else:\n",
        "            zeros.append(number)\n",
        "    positive_fraction =  (len(positive)/len(arr))\n",
        "    negative_fraction = (len(negative)/len(arr))\n",
        "    zeros_fraction = (len(zeros)/len(arr))\n",
        "    print(\"%.6f\" % positive_fraction + '\\n' + \"%.6f\" % negative_fraction + '\\n' + \"%.6f\" % zeros_fraction)\n",
        "plusMinus()"
      ],
      "execution_count": null,
      "outputs": [
        {
          "output_type": "stream",
          "text": [
            "6\n",
            "-4 3 -9 0 4 1\n",
            "0.500000\n",
            "0.333333\n",
            "0.166667\n"
          ],
          "name": "stdout"
        }
      ]
    },
    {
      "cell_type": "code",
      "metadata": {
        "id": "D_j5OkLas1e_",
        "outputId": "cd4b0319-ac37-424e-a323-61f42c4cb4c9",
        "colab": {
          "base_uri": "https://localhost:8080/",
          "height": 101
        }
      },
      "source": [
        "# Method 3:\n",
        "def plusMinus():\n",
        "    n = int(input())\n",
        "    arr = list(map(int, input().rstrip().split()))\n",
        "    positive = []\n",
        "    negative = []\n",
        "    zeros = []\n",
        "    for number in arr:\n",
        "        if number > 0:\n",
        "            positive.append(number)\n",
        "        elif number < 0:\n",
        "            negative.append(number)\n",
        "        else:\n",
        "            zeros.append(number)\n",
        "    print(\"%.6f\" % (len(positive)/len(arr)) + '\\n' + \"%.6f\" % (len(negative)/len(arr)) + '\\n' + \"%.6f\" % (len(zeros)/len(arr)))\n",
        "plusMinus()"
      ],
      "execution_count": null,
      "outputs": [
        {
          "output_type": "stream",
          "text": [
            "6\n",
            "-4 3 -9 0 4 1\n",
            "0.500000\n",
            "0.333333\n",
            "0.166667\n"
          ],
          "name": "stdout"
        }
      ]
    },
    {
      "cell_type": "markdown",
      "metadata": {
        "id": "QkfU6oMIvpGe"
      },
      "source": [
        "7/ Staircases"
      ]
    },
    {
      "cell_type": "code",
      "metadata": {
        "id": "qXIgeSKJ5Bjx",
        "outputId": "9ed92d0b-e4d5-4960-c553-fc65d1b7a310",
        "colab": {
          "base_uri": "https://localhost:8080/",
          "height": 134
        }
      },
      "source": [
        "def staircase():\n",
        "    n = int(input())\n",
        "    size = n-1\n",
        "    for i in range(n):\n",
        "        string = ' '*(size) + '#'*(i+1)\n",
        "        print(string)\n",
        "        size -= 1\n",
        "staircase()"
      ],
      "execution_count": null,
      "outputs": [
        {
          "output_type": "stream",
          "text": [
            "6\n",
            "     #\n",
            "    ##\n",
            "   ###\n",
            "  ####\n",
            " #####\n",
            "######\n"
          ],
          "name": "stdout"
        }
      ]
    },
    {
      "cell_type": "markdown",
      "metadata": {
        "id": "39nujkpm5-gL"
      },
      "source": [
        "8/ Mini-Max Sum"
      ]
    },
    {
      "cell_type": "code",
      "metadata": {
        "id": "0iiMhJ6a5FM3",
        "outputId": "64cc2937-f5b7-4af3-f093-69f94fd302d3",
        "colab": {
          "base_uri": "https://localhost:8080/",
          "height": 50
        }
      },
      "source": [
        "def miniMaxSum():\n",
        "    arr = list(map(int, input().rstrip().split()))\n",
        "    lst = []\n",
        "    for i in range(len(arr)):\n",
        "        summ = sum(arr) - arr[i]\n",
        "        lst.append(summ)\n",
        "    print(min(lst), max(lst))\n",
        "miniMaxSum()    "
      ],
      "execution_count": null,
      "outputs": [
        {
          "output_type": "stream",
          "text": [
            "1 2 3 4 5\n",
            "10 14\n"
          ],
          "name": "stdout"
        }
      ]
    },
    {
      "cell_type": "markdown",
      "metadata": {
        "id": "E-4M_yggdd9i"
      },
      "source": [
        "9/ Birthday Cake Candles"
      ]
    },
    {
      "cell_type": "code",
      "metadata": {
        "id": "vx9ROm4VcRDi",
        "outputId": "00b8d19e-f77a-4737-cc73-42999186a9b2",
        "colab": {
          "base_uri": "https://localhost:8080/",
          "height": 67
        }
      },
      "source": [
        "# Method 1: Terminated due to timeout\n",
        "def birthdayCakeCandles():\n",
        "    ar_count = int(input())\n",
        "    ar = list(map(int, input().rstrip().split()))\n",
        "    count = 0\n",
        "    for num in ar:\n",
        "        if num == max(ar):\n",
        "            count += 1\n",
        "    return count\n",
        "birthdayCakeCandles()"
      ],
      "execution_count": null,
      "outputs": [
        {
          "output_type": "stream",
          "text": [
            "4\n",
            "3 1 2 3\n",
            "2\n"
          ],
          "name": "stdout"
        }
      ]
    },
    {
      "cell_type": "code",
      "metadata": {
        "id": "NTQcWXfJePDe",
        "outputId": "e203d282-37ae-42f8-c5c6-9dde429b1f5b",
        "colab": {
          "base_uri": "https://localhost:8080/",
          "height": 67
        }
      },
      "source": [
        "# Method 2:\n",
        "def birthdayCakeCandles():\n",
        "    ar_count = int(input())\n",
        "    ar = list(map(int, input().rstrip().split()))\n",
        "    lst = []\n",
        "    for num in ar:\n",
        "        if num == max(ar):\n",
        "            lst.append(num)\n",
        "    return len(lst)\n",
        "birthdayCakeCandles()"
      ],
      "execution_count": null,
      "outputs": [
        {
          "output_type": "stream",
          "text": [
            "4\n",
            "3 2 1 3\n",
            "2\n"
          ],
          "name": "stdout"
        }
      ]
    },
    {
      "cell_type": "code",
      "metadata": {
        "id": "q8XJzmr5fw4n",
        "outputId": "c17625ad-ee26-4aed-ff3c-d240a61c4c6d",
        "colab": {
          "base_uri": "https://localhost:8080/",
          "height": 67
        }
      },
      "source": [
        "# Method 3:\n",
        "def birthdayCakeCandles():\n",
        "    ar_count = int(input())\n",
        "    ar = list(map(int, input().rstrip().split()))\n",
        "    lst = []\n",
        "    for i in range(ar_count):\n",
        "        if ar[i] == max(ar):\n",
        "            lst.append(ar[i])\n",
        "    return len(lst)\n",
        "birthdayCakeCandles()"
      ],
      "execution_count": null,
      "outputs": [
        {
          "output_type": "stream",
          "text": [
            "4\n",
            "3 2 1 3\n"
          ],
          "name": "stdout"
        },
        {
          "output_type": "execute_result",
          "data": {
            "text/plain": [
              "2"
            ]
          },
          "metadata": {
            "tags": []
          },
          "execution_count": 18
        }
      ]
    },
    {
      "cell_type": "code",
      "metadata": {
        "id": "1qq_2MKOgCKo",
        "outputId": "542ecac8-005c-4cec-8559-98e38d2307f6",
        "colab": {
          "base_uri": "https://localhost:8080/",
          "height": 67
        }
      },
      "source": [
        "# Method 3: FASTEST !!!\n",
        "def birthdayCakeCandles(): \n",
        "    ar_count = int(input())\n",
        "    ar = list(map(int, input().rstrip().split()))\n",
        "    return ar.count(max(ar)) # !!!\n",
        "birthdayCakeCandles()"
      ],
      "execution_count": null,
      "outputs": [
        {
          "output_type": "stream",
          "text": [
            "4\n",
            "3 2 1 3\n"
          ],
          "name": "stdout"
        },
        {
          "output_type": "execute_result",
          "data": {
            "text/plain": [
              "2"
            ]
          },
          "metadata": {
            "tags": []
          },
          "execution_count": 23
        }
      ]
    },
    {
      "cell_type": "code",
      "metadata": {
        "id": "HTYMHYkPgsH_",
        "outputId": "6abf4818-e666-4a48-a0d1-3ac51c3e0e32",
        "colab": {
          "base_uri": "https://localhost:8080/",
          "height": 67
        }
      },
      "source": [
        "# Method 4:\n",
        "def birthdayCakeCandles():\n",
        "    ar_count = int(input())\n",
        "    ar = list(map(int, input().rstrip().split()))  \n",
        "    d, max = {}, 0\n",
        "    for i in ar:\n",
        "        if i in d:\n",
        "            d[i] += 1\n",
        "        else:\n",
        "            d[i] = 1\n",
        "    for key in d:\n",
        "        if key > max:\n",
        "            max = key\n",
        "    return d[max]\n",
        "birthdayCakeCandles()"
      ],
      "execution_count": null,
      "outputs": [
        {
          "output_type": "stream",
          "text": [
            "4\n",
            "3 2 1 3\n"
          ],
          "name": "stdout"
        },
        {
          "output_type": "execute_result",
          "data": {
            "text/plain": [
              "2"
            ]
          },
          "metadata": {
            "tags": []
          },
          "execution_count": 20
        }
      ]
    },
    {
      "cell_type": "markdown",
      "metadata": {
        "id": "OZGixuHphh9e"
      },
      "source": [
        "10/ Grading Students\n",
        "\n",
        "Link: https://stackoverflow.com/questions/2272149/round-to-5-or-other-number-in-python"
      ]
    },
    {
      "cell_type": "code",
      "metadata": {
        "id": "oJ7FNgSYkpZS",
        "outputId": "ae00bbfd-9b09-42af-f7ad-7bce6fd9e5a8",
        "colab": {
          "base_uri": "https://localhost:8080/",
          "height": 118
        }
      },
      "source": [
        "def gradingStudents():\n",
        "    grades_count = int(input().strip())\n",
        "    grades = []\n",
        "    for _ in range(grades_count):\n",
        "        grades_item = int(input().strip())\n",
        "        grades.append(grades_item)\n",
        "    lst = []\n",
        "    for num in grades:\n",
        "        if num < 38:\n",
        "            lst.append(num)\n",
        "        else:\n",
        "            if num % 5 >= 3:\n",
        "                lst.append(5 * round(num/5))\n",
        "            else:\n",
        "                lst.append(num)\n",
        "    return lst\n",
        "gradingStudents()"
      ],
      "execution_count": null,
      "outputs": [
        {
          "output_type": "stream",
          "text": [
            "4\n",
            "73\n",
            "67\n",
            "38\n",
            "33\n"
          ],
          "name": "stdout"
        },
        {
          "output_type": "execute_result",
          "data": {
            "text/plain": [
              "[75, 67, 40, 33]"
            ]
          },
          "metadata": {
            "tags": []
          },
          "execution_count": 34
        }
      ]
    },
    {
      "cell_type": "markdown",
      "metadata": {
        "id": "jmeRgd_dmRDD"
      },
      "source": [
        "11/ Apple and Orange"
      ]
    },
    {
      "cell_type": "code",
      "metadata": {
        "id": "xzqbXqbYl2mg",
        "outputId": "9d57bdbc-9eae-4d72-a1e8-fbf093e14c23",
        "colab": {
          "base_uri": "https://localhost:8080/",
          "height": 151
        }
      },
      "source": [
        "# Too long\n",
        "def countApplesAndOranges():\n",
        "    st = input().split()\n",
        "    s = int(st[0])\n",
        "    t = int(st[1])\n",
        "    ab = input().split()\n",
        "    a = int(ab[0])\n",
        "    b = int(ab[1])\n",
        "    mn = input().split()\n",
        "    m = int(mn[0])\n",
        "    n = int(mn[1])\n",
        "    apples = list(map(int, input().rstrip().split()))\n",
        "    oranges = list(map(int, input().rstrip().split()))\n",
        "    A, B = [], []\n",
        "    for i in apples:\n",
        "        A.append(a+i)\n",
        "    for j in oranges:\n",
        "        B.append(b+j)\n",
        "    count_A, count_B = 0, 0\n",
        "    for dis in range(s, t+1):\n",
        "        for num in A:\n",
        "            if num == dis:\n",
        "                count_A += 1\n",
        "            # else:\n",
        "            #     count_A += 0\n",
        "        for numm in B:\n",
        "            if numm == dis:\n",
        "                count_B += 1\n",
        "            # else:\n",
        "            #     count_B += 0\n",
        "    # lst_A.append(count)\n",
        "    # print(lst_A, lst_B, sep='\\n')\n",
        "    print( count_A, count_B, sep='\\n')\n",
        "countApplesAndOranges()    "
      ],
      "execution_count": null,
      "outputs": [
        {
          "output_type": "stream",
          "text": [
            "7 11\n",
            "5 15\n",
            "3 2\n",
            "-2 2 1\n",
            "5 -6\n",
            "[3, 7, 6]\n",
            "[20, 9]\n",
            "1 1\n"
          ],
          "name": "stdout"
        }
      ]
    },
    {
      "cell_type": "code",
      "metadata": {
        "id": "vjL--DLfrpmT",
        "outputId": "b7f22213-9b6f-4088-8059-382fdd3eb729",
        "colab": {
          "base_uri": "https://localhost:8080/",
          "height": 504
        }
      },
      "source": [
        "# Sample ok nhưng actual ra 0\n",
        "# def countApplesAndOranges():\n",
        "#     st = input().split()\n",
        "#     s = int(st[0])\n",
        "#     t = int(st[1])\n",
        "#     ab = input().split()\n",
        "#     a = int(ab[0])\n",
        "#     b = int(ab[1])\n",
        "#     mn = input().split()\n",
        "#     m = int(mn[0])\n",
        "#     n = int(mn[1])\n",
        "#     apples = list(map(int, input().rstrip().split()))\n",
        "#     oranges = list(map(int, input().rstrip().split()))\n",
        "#     A, B = [], []\n",
        "#     for i in apples:\n",
        "#         A.append(a+i)\n",
        "#     for j in oranges:\n",
        "#         B.append(b+j)\n",
        "#     print(A, B, sep='\\n')\n",
        "#     count_A, count_B = 0, 0\n",
        "#     st_list = []\n",
        "#     for z in range(s, t+1):\n",
        "#         st_list.append(z)\n",
        "#     for num in st_list:\n",
        "#         print('st = ', st_list)\n",
        "#         print('num =', num)\n",
        "#         print('a = ', apples.count(int(num)))\n",
        "#         print('b = ', oranges.count(int(num)))\n",
        "#         count_A += apples.count(num)\n",
        "#         count_B += oranges.count(num)\n",
        "#     print(count_A, count_B, sep='\\n')\n",
        "# countApplesAndOranges()    "
      ],
      "execution_count": null,
      "outputs": [
        {
          "output_type": "stream",
          "text": [
            "7 11\n",
            "5 15\n",
            "3 2\n",
            "-2 2 1\n",
            "5 -6\n",
            "[3, 7, 6]\n",
            "[20, 9]\n",
            "st =  [7, 8, 9, 10, 11]\n",
            "num = 7\n",
            "a =  0\n",
            "b =  0\n",
            "st =  [7, 8, 9, 10, 11]\n",
            "num = 8\n",
            "a =  0\n",
            "b =  0\n",
            "st =  [7, 8, 9, 10, 11]\n",
            "num = 9\n",
            "a =  0\n",
            "b =  0\n",
            "st =  [7, 8, 9, 10, 11]\n",
            "num = 10\n",
            "a =  0\n",
            "b =  0\n",
            "st =  [7, 8, 9, 10, 11]\n",
            "num = 11\n",
            "a =  0\n",
            "b =  0\n",
            "0\n",
            "0\n"
          ],
          "name": "stdout"
        }
      ]
    },
    {
      "cell_type": "code",
      "metadata": {
        "id": "T9lRirt5x2Ag",
        "outputId": "82bb93d1-4dfe-415a-9268-b8a1b293df50",
        "colab": {
          "base_uri": "https://localhost:8080/",
          "height": 504
        }
      },
      "source": [
        "# Sample ok nhưng actual ra 0\n",
        "def countApplesAndOranges():\n",
        "    st = input().split()\n",
        "    s = int(st[0])\n",
        "    t = int(st[1])\n",
        "    ab = input().split()\n",
        "    a = int(ab[0])\n",
        "    b = int(ab[1])\n",
        "    mn = input().split()\n",
        "    m = int(mn[0])\n",
        "    n = int(mn[1])\n",
        "    apples = list(map(int, input().rstrip().split()))\n",
        "    oranges = list(map(int, input().rstrip().split()))\n",
        "    A, B = [], []\n",
        "    for i in apples:\n",
        "        A.append(a+i)\n",
        "    for j in oranges:\n",
        "        B.append(b+j)\n",
        "    print(A, B, sep='\\n')\n",
        "    count_A, count_B = 0, 0\n",
        "    st_list = []\n",
        "    for z in range(s, t+1):\n",
        "        st_list.append(z)\n",
        "    for i in range(len(st_list)):\n",
        "        print('st = ', st_list)\n",
        "        print('num =', type(st_list[i]))\n",
        "        print('a = ', apples.count(int(num)))\n",
        "        print('b = ', oranges.count(int(num)))\n",
        "        count_A += apples.count(st_list[i])\n",
        "        count_B += oranges.count(st_list[i])\n",
        "    print(count_A, count_B, sep='\\n')\n",
        "countApplesAndOranges()    "
      ],
      "execution_count": null,
      "outputs": [
        {
          "output_type": "stream",
          "text": [
            "7 11\n",
            "5 15\n",
            "3 2\n",
            "-2 2 1\n",
            "5 -6\n",
            "[3, 7, 6]\n",
            "[20, 9]\n",
            "st =  [7, 8, 9, 10, 11]\n",
            "num = <class 'int'>\n",
            "a =  0\n",
            "b =  0\n",
            "st =  [7, 8, 9, 10, 11]\n",
            "num = <class 'int'>\n",
            "a =  0\n",
            "b =  0\n",
            "st =  [7, 8, 9, 10, 11]\n",
            "num = <class 'int'>\n",
            "a =  0\n",
            "b =  0\n",
            "st =  [7, 8, 9, 10, 11]\n",
            "num = <class 'int'>\n",
            "a =  0\n",
            "b =  0\n",
            "st =  [7, 8, 9, 10, 11]\n",
            "num = <class 'int'>\n",
            "a =  0\n",
            "b =  0\n",
            "0\n",
            "0\n"
          ],
          "name": "stdout"
        }
      ]
    },
    {
      "cell_type": "code",
      "metadata": {
        "id": "mQq7NRDy2EBB"
      },
      "source": [
        "Could anyone help to explain why list.count() can't count the number of st_list?\n",
        "```\n",
        "def countApplesAndOranges():\n",
        "    A, B = [], []\n",
        "    for i in apples:\n",
        "        A.append(a+i)\n",
        "    for j in oranges:\n",
        "        B.append(b+j)\n",
        "    count_A, count_B = 0, 0\n",
        "    st_list = []\n",
        "    for z in range(s, t+1):\n",
        "        st_list.append(z)\n",
        "    for i in range(len(st_list)):\n",
        "        count_A += apples.count(st_list[i])\n",
        "        count_B += oranges.count(st_list[i])\n",
        "    print(count_A, count_B, sep='\\n') \n",
        "```"
      ],
      "execution_count": null,
      "outputs": []
    },
    {
      "cell_type": "code",
      "metadata": {
        "id": "Qbhvt10VwdLB",
        "outputId": "c90ceea7-0606-41ac-85ed-97c0c580072a",
        "colab": {
          "base_uri": "https://localhost:8080/",
          "height": 168
        }
      },
      "source": [
        "# Sample ok nhưng actual ra 0\n",
        "# def countApplesAndOranges():\n",
        "#     st = input().split()\n",
        "#     s = int(st[0])\n",
        "#     t = int(st[1])\n",
        "#     ab = input().split()\n",
        "#     a = int(ab[0])\n",
        "#     b = int(ab[1])\n",
        "#     mn = input().split()\n",
        "#     m = int(mn[0])\n",
        "#     n = int(mn[1])\n",
        "#     apples = list(map(int, input().rstrip().split()))\n",
        "#     oranges = list(map(int, input().rstrip().split()))\n",
        "#     A, B = [], []\n",
        "#     for i in apples:\n",
        "#         A.append(a+i)\n",
        "#     for j in oranges:\n",
        "#         B.append(b+j)\n",
        "#     print(A, B, sep='\\n')\n",
        "#     count_A, count_B = 0, 0\n",
        "#     st_list = []\n",
        "#     for z in range(s, t+1):\n",
        "#         st_list.append(z)    \n",
        "#     for num_A in apples:\n",
        "#         count_A += st.count(num_A)\n",
        "#     print(count_A)\n",
        "#     for num_B in oranges:\n",
        "#         count_B += st.count(num_B)\n",
        "#     print(count_B)\n",
        "# countApplesAndOranges()    "
      ],
      "execution_count": null,
      "outputs": [
        {
          "output_type": "stream",
          "text": [
            "7 11\n",
            "5 15\n",
            "3 2\n",
            "-2 2 1\n",
            "5 -6\n",
            "[3, 7, 6]\n",
            "[20, 9]\n",
            "0\n",
            "0\n"
          ],
          "name": "stdout"
        }
      ]
    },
    {
      "cell_type": "code",
      "metadata": {
        "id": "m1ABf90KroRy",
        "outputId": "a741cb58-8668-42dd-cc59-1bf11eef24eb",
        "colab": {
          "base_uri": "https://localhost:8080/",
          "height": 302
        }
      },
      "source": [
        "# Sample ok\n",
        "apples = [3, 6, 7]\n",
        "oranges = [9, 20]\n",
        "st = [7, 8, 9, 10, 11]\n",
        "count_A, count_B = 0, 0\n",
        "for num in st:\n",
        "    print('num =', num)\n",
        "    print('a = ', apples.count(num))\n",
        "    print('b = ', oranges.count(num))\n",
        "    count_A += apples.count(num)\n",
        "    count_B += oranges.count(num)\n",
        "print(count_A, count_B, sep='\\n')"
      ],
      "execution_count": null,
      "outputs": [
        {
          "output_type": "stream",
          "text": [
            "num = 7\n",
            "a =  1\n",
            "b =  0\n",
            "num = 8\n",
            "a =  0\n",
            "b =  0\n",
            "num = 9\n",
            "a =  0\n",
            "b =  1\n",
            "num = 10\n",
            "a =  0\n",
            "b =  0\n",
            "num = 11\n",
            "a =  0\n",
            "b =  0\n",
            "1\n",
            "1\n"
          ],
          "name": "stdout"
        }
      ]
    },
    {
      "cell_type": "code",
      "metadata": {
        "id": "if0-KnPOsYiB",
        "outputId": "c7875b53-8b39-4254-a590-95aae6b42036",
        "colab": {
          "base_uri": "https://localhost:8080/",
          "height": 50
        }
      },
      "source": [
        "# Sample ok:\n",
        "apples = [3, 6, 7]\n",
        "oranges = [9, 20]\n",
        "st = [7, 8, 9, 10, 11]\n",
        "count_A, count_B = 0, 0\n",
        "for num_A in apples:\n",
        "    count_A += st.count(num_A)\n",
        "print(count_A)\n",
        "for num_B in oranges:\n",
        "    count_B += st.count(num_B)\n",
        "print(count_B)"
      ],
      "execution_count": null,
      "outputs": [
        {
          "output_type": "stream",
          "text": [
            "1\n",
            "1\n"
          ],
          "name": "stdout"
        }
      ]
    },
    {
      "cell_type": "code",
      "metadata": {
        "id": "3uRDJouBwame",
        "outputId": "a01a87d5-45e6-46f1-adb3-c6aaf08c0052",
        "colab": {
          "base_uri": "https://localhost:8080/",
          "height": 134
        }
      },
      "source": [
        "# Method 1:\n",
        "def countApplesAndOranges():\n",
        "    st = input().split()\n",
        "    s = int(st[0])\n",
        "    t = int(st[1])\n",
        "    ab = input().split()\n",
        "    a = int(ab[0])\n",
        "    b = int(ab[1])\n",
        "    mn = input().split()\n",
        "    m = int(mn[0])\n",
        "    n = int(mn[1])\n",
        "    apples = list(map(int, input().rstrip().split()))\n",
        "    oranges = list(map(int, input().rstrip().split()))\n",
        "    print(sum([1 for x in apples if (x + a) >= s and (x + a) <= t]))\n",
        "    print(sum([1 for x in oranges if (x + b) >= s and (x + b) <= t]))\n",
        "countApplesAndOranges()"
      ],
      "execution_count": null,
      "outputs": [
        {
          "output_type": "stream",
          "text": [
            "7 11\n",
            "5 15\n",
            "3 2\n",
            "-2 2 1\n",
            "5 -6\n",
            "1\n",
            "1\n"
          ],
          "name": "stdout"
        }
      ]
    },
    {
      "cell_type": "code",
      "metadata": {
        "id": "OxZgydF2ygVF",
        "outputId": "57659a22-62f4-464d-8462-9da7b6c11f43",
        "colab": {
          "base_uri": "https://localhost:8080/",
          "height": 134
        }
      },
      "source": [
        "# Failed Test 2 onwards:\n",
        "def countApplesAndOranges():\n",
        "    st = input().split()\n",
        "    s = int(st[0])\n",
        "    t = int(st[1])\n",
        "    ab = input().split()\n",
        "    a = int(ab[0])\n",
        "    b = int(ab[1])\n",
        "    mn = input().split()\n",
        "    m = int(mn[0])\n",
        "    n = int(mn[1])\n",
        "    apples = list(map(int, input().rstrip().split()))\n",
        "    oranges = list(map(int, input().rstrip().split()))\n",
        "    count_A, count_B = 0, 0\n",
        "    for x in apples:\n",
        "        if (x + a) >= s and (x + a) <= t:\n",
        "            count_A += 1\n",
        "    for x in oranges:\n",
        "        if (x + a) >= s and (x + a) <= t:\n",
        "            count_B += 1\n",
        "    print(count_A, count_B, sep='\\n')\n",
        "countApplesAndOranges()"
      ],
      "execution_count": null,
      "outputs": [
        {
          "output_type": "stream",
          "text": [
            "7 11\n",
            "5 15\n",
            "3 2\n",
            "-2 2 1\n",
            "5 -6\n",
            "1\n",
            "1\n"
          ],
          "name": "stdout"
        }
      ]
    },
    {
      "cell_type": "markdown",
      "metadata": {
        "id": "bRtRy-rinS0D"
      },
      "source": [
        "12/ Kangaroo"
      ]
    },
    {
      "cell_type": "code",
      "metadata": {
        "id": "iPpgJ-WhoA2l",
        "outputId": "715f8f66-62d2-4317-f114-f773350821ec",
        "colab": {
          "base_uri": "https://localhost:8080/",
          "height": 50
        }
      },
      "source": [
        "# Method 1:\n",
        "def kangaroo(x1, v1, x2, v2):\n",
        "    for i in range(10001):\n",
        "        if x1 == x2:\n",
        "            # print(x1, x2)\n",
        "            print('YES')\n",
        "            break\n",
        "        else:\n",
        "            x1 += v1\n",
        "            x2 += v2\n",
        "    else:\n",
        "        print('NO')\n",
        "x1V1X2V2 = input().split()\n",
        "x1 = int(x1V1X2V2[0])\n",
        "v1 = int(x1V1X2V2[1])\n",
        "x2 = int(x1V1X2V2[2])\n",
        "v2 = int(x1V1X2V2[3])\n",
        "kangaroo(x1, v1, x2, v2)"
      ],
      "execution_count": null,
      "outputs": [
        {
          "output_type": "stream",
          "text": [
            "0 3 4 2\n",
            "YES\n"
          ],
          "name": "stdout"
        }
      ]
    },
    {
      "cell_type": "code",
      "metadata": {
        "id": "34Y9g7MYCY0x",
        "colab": {
          "base_uri": "https://localhost:8080/",
          "height": 50
        },
        "outputId": "00265f65-ebe1-4f76-e8c2-3706f24669ce"
      },
      "source": [
        "# Method 2:\n",
        "def kangaroo(x1, v1, x2, v2):\n",
        "    if v1>v2:\n",
        "        while x1 < x2:\n",
        "            x1 += v1\n",
        "            x2 += v2\n",
        "    else:\n",
        "        while x2 < x1:\n",
        "            x1 += v1\n",
        "            x2 += v2\n",
        "    return \"YES\" if x1 == x2 else \"NO\"\n",
        "\n",
        "x1,v1,x2,v2 = map(int,input().split())\n",
        "result = kangaroo(x1, v1, x2, v2)\n",
        "print(result)"
      ],
      "execution_count": null,
      "outputs": [
        {
          "output_type": "stream",
          "text": [
            "0 2 5 3\n",
            "NO\n"
          ],
          "name": "stdout"
        }
      ]
    },
    {
      "cell_type": "code",
      "metadata": {
        "id": "JU8q7TagD5eR",
        "outputId": "fb29068a-2aaa-4cc8-92e6-983b000b902d",
        "colab": {
          "base_uri": "https://localhost:8080/",
          "height": 50
        }
      },
      "source": [
        "# Wrong as while True\n",
        "# def kangaroo(x1, v1, x2, v2):\n",
        "#     i = 0\n",
        "#     while True:\n",
        "#         if x1 + i*v1 == x2 + i*v2: # and i <= 100001:\n",
        "#             # print(x1, x2)\n",
        "#             print('YES')\n",
        "#             break\n",
        "#         # else:\n",
        "#         #     print('NO')\n",
        "#         i += 1\n",
        "#     # else:\n",
        "#     #     print('NO')\n",
        "#         #break\n",
        "#         # return False \n",
        "#         print('NO')\n",
        "#         break\n",
        "# x1V1X2V2 = input().split()\n",
        "# x1 = int(x1V1X2V2[0])\n",
        "# v1 = int(x1V1X2V2[1])\n",
        "# x2 = int(x1V1X2V2[2])\n",
        "# v2 = int(x1V1X2V2[3])\n",
        "# kangaroo(x1, v1, x2, v2)\n",
        "\n",
        "#Session 1 / 2"
      ],
      "execution_count": null,
      "outputs": [
        {
          "output_type": "stream",
          "text": [
            "0 2 5 3\n",
            "NO\n"
          ],
          "name": "stdout"
        }
      ]
    },
    {
      "cell_type": "markdown",
      "metadata": {
        "id": "OWBYnDgHAcyK"
      },
      "source": [
        "13/ Migratory Birds"
      ]
    },
    {
      "cell_type": "code",
      "metadata": {
        "id": "ef75MqNVo1_1",
        "outputId": "2288c659-5686-4900-82fe-72ae045a4cac",
        "colab": {
          "base_uri": "https://localhost:8080/",
          "height": 85
        }
      },
      "source": [
        "# Runtime out\n",
        "if __name__ == '__main__':\n",
        "    m = int(input().strip())\n",
        "    strin = list(map(int, input().rstrip().split()))\n",
        "\n",
        "    birds, migratory_types = {}, {}\n",
        "    for bird_type in strin:\n",
        "        birds[bird_type] = strin.count(bird_type)  \n",
        "\n",
        "    for i in sorted(birds): \n",
        "        migratory_types.update({i : birds[i]})\n",
        "    #print(migratory_types)\n",
        "    print(max(migratory_types, key=migratory_types.get))"
      ],
      "execution_count": null,
      "outputs": [
        {
          "output_type": "stream",
          "text": [
            "6\n",
            "1 4 4 4 5 3\n",
            "{1: 1, 3: 1, 4: 3, 5: 1}\n",
            "4\n"
          ],
          "name": "stdout"
        }
      ]
    },
    {
      "cell_type": "markdown",
      "metadata": {
        "id": "B9Ck37l_6OeW"
      },
      "source": [
        "14/ Bon appetit"
      ]
    },
    {
      "cell_type": "code",
      "metadata": {
        "id": "t2Wt25lK3ZPX",
        "outputId": "b7653de8-5992-4304-bd32-af9490cb60ac",
        "colab": {
          "base_uri": "https://localhost:8080/",
          "height": 85
        }
      },
      "source": [
        "if __name__ == '__main__':\n",
        "    nk = list(map(int, input().rstrip().split()))\n",
        "    n, k = nk[0], nk[1]\n",
        "    dishes = list(map(int, input().rstrip().split()))\n",
        "    paid = int(input())\n",
        "    right = (sum(dishes) - dishes[k]) / 2\n",
        "    if paid <= right:\n",
        "        print('Bon Appetit')\n",
        "    else:\n",
        "        print(int(paid-right))"
      ],
      "execution_count": null,
      "outputs": [
        {
          "output_type": "stream",
          "text": [
            "4 1\n",
            "3 10 2 9\n",
            "7\n",
            "Bon Appetit\n"
          ],
          "name": "stdout"
        }
      ]
    },
    {
      "cell_type": "markdown",
      "metadata": {
        "id": "qNxwU-RNIXoS"
      },
      "source": [
        "15/ "
      ]
    },
    {
      "cell_type": "code",
      "metadata": {
        "id": "wCv2OLpg7L9d"
      },
      "source": [
        ""
      ],
      "execution_count": null,
      "outputs": []
    }
  ]
}